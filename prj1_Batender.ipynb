{
  "nbformat": 4,
  "nbformat_minor": 0,
  "metadata": {
    "colab": {
      "name": "prj1_Batender.ipynb",
      "provenance": [],
      "authorship_tag": "ABX9TyNCcGYzt7vOUsOUS0iGwzQs",
      "include_colab_link": true
    },
    "kernelspec": {
      "name": "python3",
      "display_name": "Python 3"
    }
  },
  "cells": [
    {
      "cell_type": "markdown",
      "metadata": {
        "id": "view-in-github",
        "colab_type": "text"
      },
      "source": [
        "<a href=\"https://colab.research.google.com/github/MinhVuong2000/Data-Science/blob/master/prj1_Batender.ipynb\" target=\"_parent\"><img src=\"https://colab.research.google.com/assets/colab-badge.svg\" alt=\"Open In Colab\"/></a>"
      ]
    },
    {
      "cell_type": "code",
      "metadata": {
        "id": "rj5hpmNROhov"
      },
      "source": [
        "questions = {\n",
        "\"strong\": \"Do ye like yer drinks strong?\",\n",
        "\"salty\": \"Do ye like it with a salty tang?\",\n",
        "\"bitter\": \"Are ye a lubber who likes it bitter?\",\n",
        "\"sweet\": \"Would ye like a bit of sweetness with yer poison?\",\n",
        "\"fruity\": \"Are ye one for a fruity finish?\",\n",
        "}\n",
        "ingredients = {\n",
        "\"strong\": [\"glug of rum\", \"slug of whisky\", \"splash of gin\"],\n",
        "\"salty\": [\"olive on a stick\", \"salt-dusted rim\", \"rasher of bacon\"],\n",
        "\"bitter\": [\"shake of bitters\", \"splash of tonic\", \"twist of lemon peel\"],\n",
        "\"sweet\": [\"sugar cube\", \"spoonful of honey\", \"spash of cola\"],\n",
        "\"fruity\": [\"slice of orange\", \"dash of cassis\", \"cherry on top\"],\n",
        "}"
      ],
      "execution_count": 1,
      "outputs": []
    },
    {
      "cell_type": "code",
      "metadata": {
        "colab": {
          "base_uri": "https://localhost:8080/",
          "height": 142
        },
        "id": "iTZRTWcyOxxO",
        "outputId": "c4aa28c4-7370-4394-c7e4-d95233cf598d"
      },
      "source": [
        "import pandas as pd\n",
        "import numpy as np\n",
        "\n",
        "data = pd.DataFrame(list(questions.items()), columns=['taste','question'])\n",
        "data.head()\n",
        "\n",
        "tasteChoice=pd.DataFrame(ingredients)\n",
        "tasteChoice.head()"
      ],
      "execution_count": 2,
      "outputs": [
        {
          "output_type": "execute_result",
          "data": {
            "text/html": [
              "<div>\n",
              "<style scoped>\n",
              "    .dataframe tbody tr th:only-of-type {\n",
              "        vertical-align: middle;\n",
              "    }\n",
              "\n",
              "    .dataframe tbody tr th {\n",
              "        vertical-align: top;\n",
              "    }\n",
              "\n",
              "    .dataframe thead th {\n",
              "        text-align: right;\n",
              "    }\n",
              "</style>\n",
              "<table border=\"1\" class=\"dataframe\">\n",
              "  <thead>\n",
              "    <tr style=\"text-align: right;\">\n",
              "      <th></th>\n",
              "      <th>strong</th>\n",
              "      <th>salty</th>\n",
              "      <th>bitter</th>\n",
              "      <th>sweet</th>\n",
              "      <th>fruity</th>\n",
              "    </tr>\n",
              "  </thead>\n",
              "  <tbody>\n",
              "    <tr>\n",
              "      <th>0</th>\n",
              "      <td>glug of rum</td>\n",
              "      <td>olive on a stick</td>\n",
              "      <td>shake of bitters</td>\n",
              "      <td>sugar cube</td>\n",
              "      <td>slice of orange</td>\n",
              "    </tr>\n",
              "    <tr>\n",
              "      <th>1</th>\n",
              "      <td>slug of whisky</td>\n",
              "      <td>salt-dusted rim</td>\n",
              "      <td>splash of tonic</td>\n",
              "      <td>spoonful of honey</td>\n",
              "      <td>dash of cassis</td>\n",
              "    </tr>\n",
              "    <tr>\n",
              "      <th>2</th>\n",
              "      <td>splash of gin</td>\n",
              "      <td>rasher of bacon</td>\n",
              "      <td>twist of lemon peel</td>\n",
              "      <td>spash of cola</td>\n",
              "      <td>cherry on top</td>\n",
              "    </tr>\n",
              "  </tbody>\n",
              "</table>\n",
              "</div>"
            ],
            "text/plain": [
              "           strong             salty  ...              sweet           fruity\n",
              "0     glug of rum  olive on a stick  ...         sugar cube  slice of orange\n",
              "1  slug of whisky   salt-dusted rim  ...  spoonful of honey   dash of cassis\n",
              "2   splash of gin   rasher of bacon  ...      spash of cola    cherry on top\n",
              "\n",
              "[3 rows x 5 columns]"
            ]
          },
          "metadata": {
            "tags": []
          },
          "execution_count": 2
        }
      ]
    },
    {
      "cell_type": "code",
      "metadata": {
        "colab": {
          "base_uri": "https://localhost:8080/"
        },
        "id": "ADxudi3oO1lv",
        "outputId": "75d400f7-4409-47a3-d238-9fbfc36017c0"
      },
      "source": [
        "while(True):\n",
        "    while (True):\n",
        "        print(\"Please choice taste you like: (strong, salty, bitter, sweet or fruity)\")\n",
        "        inputTaste = input().lower()\n",
        "        if (inputTaste not in data.taste.tolist()):\n",
        "            print(\"So sorry that Don't have this taste. Please choice taste again :D \")\n",
        "        else: break\n",
        "    print('Question: ', data.question[data.taste==inputTaste].to_string(index=False))\n",
        "    \n",
        "    print('Press \"Y\" if Yes and \"N\" if No: ')\n",
        "    inputChoice = input().upper()\n",
        "    if (inputChoice=='Y'):\n",
        "        print(np.random.choice(tasteChoice[inputTaste].tolist()))\n",
        "        print('Thank you and nice to enjoy!')\n",
        "        break\n",
        "    else: \n",
        "        print('Oops, choice again!')"
      ],
      "execution_count": 3,
      "outputs": [
        {
          "output_type": "stream",
          "text": [
            "Please choice taste you like: (strong, salty, bitter, sweet or fruity)\n",
            "strong\n",
            "Question:   Do ye like yer drinks strong?\n",
            "Press \"Y\" if Yes and \"N\" if No: \n",
            "n\n",
            "Oops, choice again!\n",
            "Please choice taste you like: (strong, salty, bitter, sweet or fruity)\n",
            "bitter\n",
            "Question:   Are ye a lubber who likes it bitter?\n",
            "Press \"Y\" if Yes and \"N\" if No: \n",
            "y\n",
            "shake of bitters\n",
            "Thank you and nice to enjoy!\n"
          ],
          "name": "stdout"
        }
      ]
    }
  ]
}